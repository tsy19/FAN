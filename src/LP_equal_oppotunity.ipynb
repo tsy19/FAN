{
 "cells": [
  {
   "cell_type": "code",
   "execution_count": 1,
   "metadata": {},
   "outputs": [],
   "source": [
    "import cvxpy as cp\n",
    "import numpy as np\n",
    "\n",
    "import torch\n",
    "import torch.nn as nn\n",
    "from model import TwolayerNet, MLP, AbstainNet\n",
    "from torch.utils.data import DataLoader\n",
    "from utils import load_data\n",
    "\n",
    "import os\n",
    "import time\n",
    "from options import args_parser\n",
    "\n",
    "import matplotlib.pyplot as plt"
   ]
  },
  {
   "cell_type": "code",
   "execution_count": 2,
   "metadata": {},
   "outputs": [
    {
     "name": "stdout",
     "output_type": "stream",
     "text": [
      "<__main__.namespace object at 0x7f0083277150>\n"
     ]
    }
   ],
   "source": [
    "class namespace:\n",
    "    def __init__(self):\n",
    "        self.batch_size=128\n",
    "        self.device='cuda:1'\n",
    "        self.epoch=30000\n",
    "        self.hidden_dim=300\n",
    "        self.input_dim=108\n",
    "        self.load_from_disk=True\n",
    "        self.lr=0.0005\n",
    "        self.seed=1\n",
    "        self.fairness_notion=\"EO\"\n",
    "        self.attribute=\"sex\"\n",
    "        self.type_of_abstain=\"prob\"\n",
    "\n",
    "args = namespace()\n",
    "\n",
    "print(args)\n",
    "\n",
    "args.model_path = \"../data/OptimalClassifier\"\n",
    "args.data_path = \"../data/adult\"\n",
    "\n",
    "train_data, test_data = load_data(args)"
   ]
  },
  {
   "cell_type": "code",
   "execution_count": 3,
   "metadata": {},
   "outputs": [],
   "source": [
    "def load_optimal(args):\n",
    "    model = MLP(args)\n",
    "\n",
    "    checkpoint = torch.load(os.path.join(args.model_path, \"model_state.pth\"), map_location=\"cpu\")\n",
    "    model.load_state_dict(checkpoint)\n",
    "\n",
    "    model.to(\"cpu\")\n",
    "    model.eval()\n",
    "\n",
    "    return model\n",
    "def load_abstain(args):\n",
    "    model = AbstainNet(args)\n",
    "    \n",
    "    model_file = os.path.join(\"../data/AbstainClassifier\", \"abstain_classifier_\" + \\\n",
    "                            args.type_of_abstain+\"_\" + \\\n",
    "                            args.fairness_notion + \"_\" + \\\n",
    "                            args.attribute + \".pth\")\n",
    "    \n",
    "    checkpoint = torch.load(model_file, map_location=\"cpu\")\n",
    "    model.load_state_dict(checkpoint)\n",
    "    \n",
    "    model.to(\"cpu\")\n",
    "    model.eval()\n",
    "    \n",
    "    return model\n",
    "\n",
    "def predict_abstain(model, data, pred_labels):\n",
    "    X = data.X.numpy()\n",
    "    X = np.column_stack((X, pred_labels))\n",
    "    log_probs = model(torch.from_numpy(X).to(torch.float))\n",
    "    return log_probs.detach().cpu().numpy().flatten()\n",
    "\n",
    "def predict(model, data):\n",
    "    log_probs = model(data.X)\n",
    "    return ((log_probs[:, 1] >= 0.5) * 1).detach().cpu().numpy(), log_probs[:, 1].detach().cpu().numpy()\n",
    "\n",
    "def formatted(numbers):\n",
    "    return [f\"{num*100:.2f}%\" for num in numbers]"
   ]
  },
  {
   "cell_type": "code",
   "execution_count": 4,
   "metadata": {},
   "outputs": [],
   "source": [
    "data = train_data\n",
    "optimal_classifier = load_optimal(args)\n",
    "pred_labels, pred_probs = predict(optimal_classifier, data)\n",
    "# np.save(\"../data/adult/optimal_labels.npy\", pred_labels)\n",
    "pred_labels_test, _ = predict(optimal_classifier, test_data)\n",
    "# np.save(\"../data/adult/test_optimal_labels.npy\", pred_labels_test)"
   ]
  },
  {
   "cell_type": "markdown",
   "metadata": {},
   "source": [
    "**LP Optimazation**"
   ]
  },
  {
   "cell_type": "code",
   "execution_count": 5,
   "metadata": {},
   "outputs": [],
   "source": [
    "delta = 0.3\n",
    "epsilon = 0.03\n",
    "num_samples = 2000"
   ]
  },
  {
   "cell_type": "code",
   "execution_count": 8,
   "metadata": {},
   "outputs": [],
   "source": [
    "X = data.X[:num_samples].numpy()\n",
    "y = data.y[:num_samples].numpy().astype(int)\n",
    "pred_labels = pred_labels[:num_samples]\n",
    "\n",
    "n = X.shape[0]\n",
    "g2_indices = np.where(X[:, 64] == 1)[0]\n",
    "g1_indices = np.where(X[:, 65] == 1)[0]\n",
    "\n",
    "g1_v = X[:, 65]\n",
    "g2_v = X[:, 64]\n",
    "\n",
    "g1_num = g1_indices.shape[0]\n",
    "g2_num = g2_indices.shape[0]\n",
    "total_error = pred_labels != y\n",
    "g1_error = (pred_labels != y)[g1_indices]\n",
    "g2_error = (pred_labels != y)[g2_indices]\n",
    "g1_error_rate = np.sum(g1_error) / g1_num\n",
    "g2_error_rate = np.sum(g2_error) / g2_num\n",
    "total_error_rate = np.sum(total_error) / n\n",
    "\n",
    "e1 = (pred_labels * g1_v * y).reshape(-1, 1)\n",
    "t1 = (g1_v * y).reshape(-1, 1)\n",
    "\n",
    "e2 = (pred_labels * g2_v * y).reshape(-1, 1)\n",
    "t2 = (g2_v * y).reshape(-1, 1)\n",
    "\n",
    "A_EO = np.zeros([e1.shape[0], e1.shape[0]])\n",
    "B_EO = np.zeros([e1.shape[0], e1.shape[0]])\n",
    "A_EO = - e1 * t2.T + e2 * t1.T + epsilon * t1 * t2.T\n",
    "B_EO = - e2 * t1.T + e1 * t2.T + epsilon * t1 * t2.T"
   ]
  },
  {
   "cell_type": "code",
   "execution_count": 13,
   "metadata": {},
   "outputs": [
    {
     "ename": "ValueError",
     "evalue": "Quadratic form matrices must be symmetric/Hermitian.",
     "output_type": "error",
     "traceback": [
      "\u001b[0;31m---------------------------------------------------------------------------\u001b[0m",
      "\u001b[0;31mValueError\u001b[0m                                Traceback (most recent call last)",
      "\u001b[0;32m<ipython-input-13-65a829e784e6>\u001b[0m in \u001b[0;36m<module>\u001b[0;34m\u001b[0m\n\u001b[1;32m      7\u001b[0m     \u001b[0mw\u001b[0m \u001b[0;34m>=\u001b[0m \u001b[0;36m0\u001b[0m\u001b[0;34m,\u001b[0m\u001b[0;34m\u001b[0m\u001b[0;34m\u001b[0m\u001b[0m\n\u001b[1;32m      8\u001b[0m \u001b[0;34m\u001b[0m\u001b[0m\n\u001b[0;32m----> 9\u001b[0;31m     \u001b[0mcp\u001b[0m\u001b[0;34m.\u001b[0m\u001b[0mquad_form\u001b[0m\u001b[0;34m(\u001b[0m\u001b[0mw\u001b[0m\u001b[0;34m,\u001b[0m \u001b[0mA_EO\u001b[0m\u001b[0;34m)\u001b[0m \u001b[0;34m<=\u001b[0m \u001b[0;36m0\u001b[0m\u001b[0;34m,\u001b[0m\u001b[0;34m\u001b[0m\u001b[0;34m\u001b[0m\u001b[0m\n\u001b[0m\u001b[1;32m     10\u001b[0m     \u001b[0mcp\u001b[0m\u001b[0;34m.\u001b[0m\u001b[0mquad_form\u001b[0m\u001b[0;34m(\u001b[0m\u001b[0mw\u001b[0m\u001b[0;34m,\u001b[0m \u001b[0mB_EO\u001b[0m\u001b[0;34m)\u001b[0m \u001b[0;34m<=\u001b[0m \u001b[0;36m0\u001b[0m\u001b[0;34m,\u001b[0m\u001b[0;34m\u001b[0m\u001b[0;34m\u001b[0m\u001b[0m\n\u001b[1;32m     11\u001b[0m \u001b[0;34m\u001b[0m\u001b[0m\n",
      "\u001b[0;32m~/anaconda3/lib/python3.7/site-packages/cvxpy/atoms/quad_form.py\u001b[0m in \u001b[0;36mquad_form\u001b[0;34m(x, P, assume_PSD)\u001b[0m\n\u001b[1;32m    241\u001b[0m         \u001b[0;32mif\u001b[0m \u001b[0massume_PSD\u001b[0m\u001b[0;34m:\u001b[0m\u001b[0;34m\u001b[0m\u001b[0;34m\u001b[0m\u001b[0m\n\u001b[1;32m    242\u001b[0m             \u001b[0mP\u001b[0m \u001b[0;34m=\u001b[0m \u001b[0mpsd_wrap\u001b[0m\u001b[0;34m(\u001b[0m\u001b[0mP\u001b[0m\u001b[0;34m)\u001b[0m\u001b[0;34m\u001b[0m\u001b[0;34m\u001b[0m\u001b[0m\n\u001b[0;32m--> 243\u001b[0;31m         \u001b[0;32mreturn\u001b[0m \u001b[0mQuadForm\u001b[0m\u001b[0;34m(\u001b[0m\u001b[0mx\u001b[0m\u001b[0;34m,\u001b[0m \u001b[0mP\u001b[0m\u001b[0;34m)\u001b[0m\u001b[0;34m\u001b[0m\u001b[0;34m\u001b[0m\u001b[0m\n\u001b[0m\u001b[1;32m    244\u001b[0m     \u001b[0;32melse\u001b[0m\u001b[0;34m:\u001b[0m\u001b[0;34m\u001b[0m\u001b[0;34m\u001b[0m\u001b[0m\n\u001b[1;32m    245\u001b[0m         raise Exception(\n",
      "\u001b[0;32m~/anaconda3/lib/python3.7/site-packages/cvxpy/atoms/quad_form.py\u001b[0m in \u001b[0;36m__init__\u001b[0;34m(self, x, P)\u001b[0m\n\u001b[1;32m     39\u001b[0m     \u001b[0;32mdef\u001b[0m \u001b[0m__init__\u001b[0m\u001b[0;34m(\u001b[0m\u001b[0mself\u001b[0m\u001b[0;34m,\u001b[0m \u001b[0mx\u001b[0m\u001b[0;34m,\u001b[0m \u001b[0mP\u001b[0m\u001b[0;34m)\u001b[0m \u001b[0;34m->\u001b[0m \u001b[0;32mNone\u001b[0m\u001b[0;34m:\u001b[0m\u001b[0;34m\u001b[0m\u001b[0;34m\u001b[0m\u001b[0m\n\u001b[1;32m     40\u001b[0m         \u001b[0;34m\"\"\"Atom representing :math:`x^T P x`.\"\"\"\u001b[0m\u001b[0;34m\u001b[0m\u001b[0;34m\u001b[0m\u001b[0m\n\u001b[0;32m---> 41\u001b[0;31m         \u001b[0msuper\u001b[0m\u001b[0;34m(\u001b[0m\u001b[0mQuadForm\u001b[0m\u001b[0;34m,\u001b[0m \u001b[0mself\u001b[0m\u001b[0;34m)\u001b[0m\u001b[0;34m.\u001b[0m\u001b[0m__init__\u001b[0m\u001b[0;34m(\u001b[0m\u001b[0mx\u001b[0m\u001b[0;34m,\u001b[0m \u001b[0mP\u001b[0m\u001b[0;34m)\u001b[0m\u001b[0;34m\u001b[0m\u001b[0;34m\u001b[0m\u001b[0m\n\u001b[0m\u001b[1;32m     42\u001b[0m \u001b[0;34m\u001b[0m\u001b[0m\n\u001b[1;32m     43\u001b[0m     \u001b[0;32mdef\u001b[0m \u001b[0mnumeric\u001b[0m\u001b[0;34m(\u001b[0m\u001b[0mself\u001b[0m\u001b[0;34m,\u001b[0m \u001b[0mvalues\u001b[0m\u001b[0;34m)\u001b[0m\u001b[0;34m:\u001b[0m\u001b[0;34m\u001b[0m\u001b[0;34m\u001b[0m\u001b[0m\n",
      "\u001b[0;32m~/anaconda3/lib/python3.7/site-packages/cvxpy/atoms/atom.py\u001b[0m in \u001b[0;36m__init__\u001b[0;34m(self, *args)\u001b[0m\n\u001b[1;32m     48\u001b[0m         \u001b[0;31m# Convert raw values to Constants.\u001b[0m\u001b[0;34m\u001b[0m\u001b[0;34m\u001b[0m\u001b[0;34m\u001b[0m\u001b[0m\n\u001b[1;32m     49\u001b[0m         \u001b[0mself\u001b[0m\u001b[0;34m.\u001b[0m\u001b[0margs\u001b[0m \u001b[0;34m=\u001b[0m \u001b[0;34m[\u001b[0m\u001b[0mAtom\u001b[0m\u001b[0;34m.\u001b[0m\u001b[0mcast_to_const\u001b[0m\u001b[0;34m(\u001b[0m\u001b[0marg\u001b[0m\u001b[0;34m)\u001b[0m \u001b[0;32mfor\u001b[0m \u001b[0marg\u001b[0m \u001b[0;32min\u001b[0m \u001b[0margs\u001b[0m\u001b[0;34m]\u001b[0m\u001b[0;34m\u001b[0m\u001b[0;34m\u001b[0m\u001b[0m\n\u001b[0;32m---> 50\u001b[0;31m         \u001b[0mself\u001b[0m\u001b[0;34m.\u001b[0m\u001b[0mvalidate_arguments\u001b[0m\u001b[0;34m(\u001b[0m\u001b[0;34m)\u001b[0m\u001b[0;34m\u001b[0m\u001b[0;34m\u001b[0m\u001b[0m\n\u001b[0m\u001b[1;32m     51\u001b[0m         \u001b[0mself\u001b[0m\u001b[0;34m.\u001b[0m\u001b[0m_shape\u001b[0m \u001b[0;34m=\u001b[0m \u001b[0mself\u001b[0m\u001b[0;34m.\u001b[0m\u001b[0mshape_from_args\u001b[0m\u001b[0;34m(\u001b[0m\u001b[0;34m)\u001b[0m\u001b[0;34m\u001b[0m\u001b[0;34m\u001b[0m\u001b[0m\n\u001b[1;32m     52\u001b[0m         \u001b[0;32mif\u001b[0m \u001b[0mlen\u001b[0m\u001b[0;34m(\u001b[0m\u001b[0mself\u001b[0m\u001b[0;34m.\u001b[0m\u001b[0m_shape\u001b[0m\u001b[0;34m)\u001b[0m \u001b[0;34m>\u001b[0m \u001b[0;36m2\u001b[0m\u001b[0;34m:\u001b[0m\u001b[0;34m\u001b[0m\u001b[0;34m\u001b[0m\u001b[0m\n",
      "\u001b[0;32m~/anaconda3/lib/python3.7/site-packages/cvxpy/atoms/quad_form.py\u001b[0m in \u001b[0;36mvalidate_arguments\u001b[0;34m(self)\u001b[0m\n\u001b[1;32m     55\u001b[0m             \u001b[0;32mraise\u001b[0m \u001b[0mValueError\u001b[0m\u001b[0;34m(\u001b[0m\u001b[0;34m\"Invalid dimensions for arguments.\"\u001b[0m\u001b[0;34m)\u001b[0m\u001b[0;34m\u001b[0m\u001b[0;34m\u001b[0m\u001b[0m\n\u001b[1;32m     56\u001b[0m         \u001b[0;32mif\u001b[0m \u001b[0;32mnot\u001b[0m \u001b[0mself\u001b[0m\u001b[0;34m.\u001b[0m\u001b[0margs\u001b[0m\u001b[0;34m[\u001b[0m\u001b[0;36m1\u001b[0m\u001b[0;34m]\u001b[0m\u001b[0;34m.\u001b[0m\u001b[0mis_hermitian\u001b[0m\u001b[0;34m(\u001b[0m\u001b[0;34m)\u001b[0m\u001b[0;34m:\u001b[0m\u001b[0;34m\u001b[0m\u001b[0;34m\u001b[0m\u001b[0m\n\u001b[0;32m---> 57\u001b[0;31m             \u001b[0;32mraise\u001b[0m \u001b[0mValueError\u001b[0m\u001b[0;34m(\u001b[0m\u001b[0;34m\"Quadratic form matrices must be symmetric/Hermitian.\"\u001b[0m\u001b[0;34m)\u001b[0m\u001b[0;34m\u001b[0m\u001b[0;34m\u001b[0m\u001b[0m\n\u001b[0m\u001b[1;32m     58\u001b[0m \u001b[0;34m\u001b[0m\u001b[0m\n\u001b[1;32m     59\u001b[0m     \u001b[0;32mdef\u001b[0m \u001b[0msign_from_args\u001b[0m\u001b[0;34m(\u001b[0m\u001b[0mself\u001b[0m\u001b[0;34m)\u001b[0m \u001b[0;34m->\u001b[0m \u001b[0mTuple\u001b[0m\u001b[0;34m[\u001b[0m\u001b[0mbool\u001b[0m\u001b[0;34m,\u001b[0m \u001b[0mbool\u001b[0m\u001b[0;34m]\u001b[0m\u001b[0;34m:\u001b[0m\u001b[0;34m\u001b[0m\u001b[0;34m\u001b[0m\u001b[0m\n",
      "\u001b[0;31mValueError\u001b[0m: Quadratic form matrices must be symmetric/Hermitian."
     ]
    }
   ],
   "source": [
    "w = cp.Variable(n)\n",
    "\n",
    "objective = cp.Minimize(cp.sum(cp.multiply(total_error, w)))\n",
    "\n",
    "constraints = [\n",
    "    w <= 1,\n",
    "    w >= 0,\n",
    "    \n",
    "    cp.quad_form(w, A_EO) <= 0,\n",
    "    cp.quad_form(w, B_EO) <= 0,\n",
    "    \n",
    "    cp.sum(w[g1_indices]) >= (1 - delta) * g1_num,\n",
    "    cp.sum(w[g2_indices]) >= (1 - delta) * g2_num,\n",
    "    cp.sum(cp.multiply(w[g1_indices], g1_error)) <= g1_error_rate * cp.sum(w[g1_indices]),\n",
    "    cp.sum(cp.multiply(w[g2_indices], g2_error)) <= g2_error_rate * cp.sum(w[g2_indices]),\n",
    "]"
   ]
  },
  {
   "cell_type": "code",
   "execution_count": 14,
   "metadata": {},
   "outputs": [
    {
     "ename": "NameError",
     "evalue": "name 'constraints' is not defined",
     "output_type": "error",
     "traceback": [
      "\u001b[0;31m---------------------------------------------------------------------------\u001b[0m",
      "\u001b[0;31mNameError\u001b[0m                                 Traceback (most recent call last)",
      "\u001b[0;32m<ipython-input-14-d303baadc777>\u001b[0m in \u001b[0;36m<module>\u001b[0;34m\u001b[0m\n\u001b[0;32m----> 1\u001b[0;31m \u001b[0mprob\u001b[0m \u001b[0;34m=\u001b[0m \u001b[0mcp\u001b[0m\u001b[0;34m.\u001b[0m\u001b[0mProblem\u001b[0m\u001b[0;34m(\u001b[0m\u001b[0mobjective\u001b[0m\u001b[0;34m,\u001b[0m \u001b[0mconstraints\u001b[0m\u001b[0;34m)\u001b[0m\u001b[0;34m\u001b[0m\u001b[0;34m\u001b[0m\u001b[0m\n\u001b[0m\u001b[1;32m      2\u001b[0m \u001b[0mresult\u001b[0m \u001b[0;34m=\u001b[0m \u001b[0mprob\u001b[0m\u001b[0;34m.\u001b[0m\u001b[0msolve\u001b[0m\u001b[0;34m(\u001b[0m\u001b[0;34m)\u001b[0m\u001b[0;34m\u001b[0m\u001b[0;34m\u001b[0m\u001b[0m\n\u001b[1;32m      3\u001b[0m \u001b[0mwn\u001b[0m \u001b[0;34m=\u001b[0m \u001b[0mw\u001b[0m\u001b[0;34m.\u001b[0m\u001b[0mvalue\u001b[0m\u001b[0;34m\u001b[0m\u001b[0;34m\u001b[0m\u001b[0m\n",
      "\u001b[0;31mNameError\u001b[0m: name 'constraints' is not defined"
     ]
    }
   ],
   "source": [
    "prob = cp.Problem(objective, constraints)\n",
    "result = prob.solve()\n",
    "wn = w.value"
   ]
  }
 ],
 "metadata": {
  "kernelspec": {
   "display_name": "Python 3",
   "language": "python",
   "name": "python3"
  },
  "language_info": {
   "codemirror_mode": {
    "name": "ipython",
    "version": 3
   },
   "file_extension": ".py",
   "mimetype": "text/x-python",
   "name": "python",
   "nbconvert_exporter": "python",
   "pygments_lexer": "ipython3",
   "version": "3.7.6"
  }
 },
 "nbformat": 4,
 "nbformat_minor": 4
}
