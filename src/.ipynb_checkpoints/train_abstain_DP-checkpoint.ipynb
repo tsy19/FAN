{
 "cells": [
  {
   "cell_type": "code",
   "execution_count": 1,
   "metadata": {},
   "outputs": [],
   "source": [
    "import cvxpy as cp\n",
    "import numpy as np\n",
    "\n",
    "import torch\n",
    "import torch.nn as nn\n",
    "from model import TwolayerNet, MLP, AbstainNet\n",
    "from torch.utils.data import DataLoader\n",
    "from utils import load_data\n",
    "\n",
    "import os\n",
    "import time\n",
    "from options import args_parser\n",
    "\n",
    "import matplotlib.pyplot as plt"
   ]
  },
  {
   "cell_type": "code",
   "execution_count": 28,
   "metadata": {},
   "outputs": [
    {
     "name": "stdout",
     "output_type": "stream",
     "text": [
      "<__main__.namespace object at 0x7f3aad9fc2d0>\n"
     ]
    }
   ],
   "source": [
    "class namespace:\n",
    "    def __init__(self):\n",
    "        self.batch_size=128\n",
    "        self.device='cuda:1'\n",
    "        self.epoch=30000\n",
    "        self.hidden_dim=300\n",
    "        self.input_dim=108\n",
    "        self.load_from_disk=True\n",
    "        self.lr=0.0005\n",
    "        self.seed=1\n",
    "        self.fairness_notion=\"DP\"\n",
    "        self.attribute=\"sex\"\n",
    "        self.type_of_abstain=\"prob\"\n",
    "\n",
    "args = namespace()\n",
    "\n",
    "print(args)\n",
    "\n",
    "args.model_path = \"../data/OptimalClassifier\"\n",
    "args.data_path = \"../data/adult\"\n",
    "\n",
    "train_data, test_data = load_data(args)"
   ]
  },
  {
   "cell_type": "code",
   "execution_count": 3,
   "metadata": {},
   "outputs": [],
   "source": [
    "def load_optimal(args):\n",
    "    model = MLP(args)\n",
    "\n",
    "    checkpoint = torch.load(os.path.join(args.model_path, \"model_state.pth\"), map_location=\"cpu\")\n",
    "    model.load_state_dict(checkpoint)\n",
    "\n",
    "    model.to(\"cpu\")\n",
    "    model.eval()\n",
    "\n",
    "    return model\n",
    "\n",
    "def predict(model, data):\n",
    "    log_probs = model(data.X)\n",
    "    return ((log_probs[:, 1] >= 0.5) * 1).detach().cpu().numpy(), log_probs[:, 1].detach().cpu().numpy()"
   ]
  },
  {
   "cell_type": "code",
   "execution_count": 4,
   "metadata": {},
   "outputs": [],
   "source": [
    "data = train_data\n",
    "optimal_classifier = load_optimal(args)\n",
    "pred_labels, pred_probs = predict(optimal_classifier, data)\n",
    "np.save(\"../data/adult/optimal_labels.npy\", pred_labels)"
   ]
  },
  {
   "cell_type": "code",
   "execution_count": 5,
   "metadata": {},
   "outputs": [],
   "source": [
    "delta = 0.3\n",
    "epsilon = 0.03\n",
    "\n",
    "X = data.X.numpy()\n",
    "y = data.y.numpy().astype(int)\n",
    "\n",
    "n = X.shape[0]\n",
    "g2_indices = np.where(X[:, 64] == 1)[0]\n",
    "g1_indices = np.where(X[:, 65] == 1)[0]\n",
    "\n",
    "g1_num = g1_indices.shape[0]\n",
    "g2_num = g2_indices.shape[0]\n",
    "total_error = pred_labels != y\n",
    "g1_error = (pred_labels != y)[g1_indices]\n",
    "g2_error = (pred_labels != y)[g2_indices]\n",
    "g1_error_rate = np.sum(g1_error) / g1_num\n",
    "g2_error_rate = np.sum(g2_error) / g2_num\n",
    "total_error_rate = np.sum(total_error) / n"
   ]
  },
  {
   "cell_type": "code",
   "execution_count": 6,
   "metadata": {},
   "outputs": [
    {
     "data": {
      "text/plain": [
       "0.0770056438488972"
      ]
     },
     "execution_count": 6,
     "metadata": {},
     "output_type": "execute_result"
    }
   ],
   "source": [
    "g1_error_rate"
   ]
  },
  {
   "cell_type": "code",
   "execution_count": 7,
   "metadata": {},
   "outputs": [
    {
     "data": {
      "text/plain": [
       "0.04310748758316934"
      ]
     },
     "execution_count": 7,
     "metadata": {},
     "output_type": "execute_result"
    }
   ],
   "source": [
    "g2_error_rate"
   ]
  },
  {
   "cell_type": "code",
   "execution_count": 8,
   "metadata": {},
   "outputs": [
    {
     "data": {
      "text/plain": [
       "0.06786003236245955"
      ]
     },
     "execution_count": 8,
     "metadata": {},
     "output_type": "execute_result"
    }
   ],
   "source": [
    "total_error_rate"
   ]
  },
  {
   "cell_type": "code",
   "execution_count": 9,
   "metadata": {},
   "outputs": [
    {
     "data": {
      "text/plain": [
       "0.5801045670163776"
      ]
     },
     "execution_count": 9,
     "metadata": {},
     "output_type": "execute_result"
    }
   ],
   "source": [
    "np.sum(pred_labels[g1_indices]) / g1_num"
   ]
  },
  {
   "cell_type": "code",
   "execution_count": 10,
   "metadata": {},
   "outputs": [
    {
     "data": {
      "text/plain": [
       "0.2592071970761878"
      ]
     },
     "execution_count": 10,
     "metadata": {},
     "output_type": "execute_result"
    }
   ],
   "source": [
    "np.sum(pred_labels[g2_indices]) / g2_num"
   ]
  },
  {
   "cell_type": "code",
   "execution_count": 52,
   "metadata": {},
   "outputs": [],
   "source": [
    "w = cp.Variable(n)\n",
    "\n",
    "objective = cp.Minimize(cp.sum(cp.multiply(total_error, w)))\n",
    "\n",
    "constraints = [\n",
    "    w <= 1,\n",
    "    w >= 0,\n",
    "    (cp.sum(cp.multiply(w, pred_labels)[g1_indices]) / g1_num - cp.sum(cp.multiply(w, pred_labels)[g2_indices]) / g2_num) ** 2 <= epsilon ** 2,\n",
    "    cp.sum(w[g1_indices]) >= (1 - delta) * g1_num,\n",
    "    cp.sum(w[g2_indices]) >= (1 - delta) * g2_num,\n",
    "    cp.sum(cp.multiply(w[g1_indices], g1_error)) <= g1_error_rate * cp.sum(w[g1_indices]),\n",
    "    cp.sum(cp.multiply(w[g2_indices], g2_error)) <= g2_error_rate * cp.sum(w[g2_indices]),\n",
    "]"
   ]
  },
  {
   "cell_type": "code",
   "execution_count": 53,
   "metadata": {},
   "outputs": [],
   "source": [
    "prob = cp.Problem(objective, constraints)\n",
    "result = prob.solve()"
   ]
  },
  {
   "cell_type": "code",
   "execution_count": 55,
   "metadata": {},
   "outputs": [],
   "source": [
    "wn = w.value"
   ]
  },
  {
   "cell_type": "code",
   "execution_count": 66,
   "metadata": {},
   "outputs": [],
   "source": [
    "#draw decision with probability wn\n",
    "wprob = (np.random.rand(len(wn)) < wn) * 1"
   ]
  },
  {
   "cell_type": "code",
   "execution_count": 67,
   "metadata": {},
   "outputs": [],
   "source": [
    "#use wn as binary classifier\n",
    "wbi = (wn >= 0.5) * 1"
   ]
  },
  {
   "cell_type": "code",
   "execution_count": 84,
   "metadata": {},
   "outputs": [],
   "source": [
    "g1_prob_error_rate = np.sum(wprob[g1_indices] * g1_error) / np.sum(wprob[g1_indices])\n",
    "g2_prob_error_rate = np.sum(wprob[g2_indices] * g2_error) / np.sum(wprob[g2_indices])\n",
    "total_prob_error_rate = np.sum(wprob * total_error) / np.sum(wprob)\n",
    "\n",
    "g1_bi_error_rate = np.sum(wbi[g1_indices] * g1_error) / np.sum(wbi[g1_indices])\n",
    "g2_bi_error_rate = np.sum(wbi[g2_indices] * g2_error) / np.sum(wbi[g2_indices])\n",
    "total_bi_error_rate = np.sum(wbi * total_error) / np.sum(wbi)\n",
    "\n",
    "\n",
    "\n",
    "optimal_accu = [1 - total_error_rate, 1 - g1_error_rate, 1 - g2_error_rate]\n",
    "prob_accu = [\n",
    "    1 - total_prob_error_rate,\n",
    "    1 - g1_prob_error_rate,\n",
    "    1 - g2_prob_error_rate\n",
    "]\n",
    "bi_accu = [\n",
    "    1 - total_bi_error_rate,\n",
    "    1 - g1_bi_error_rate,\n",
    "    1 - g2_bi_error_rate\n",
    "]\n",
    "\n",
    "optimal_fairness = [\n",
    "    np.sum(pred_labels) / n, \n",
    "    np.sum(pred_labels[g1_indices]) / g1_num, \n",
    "    np.sum(pred_labels[g2_indices]) / g2_num\n",
    "]\n",
    "prob_fairness = [\n",
    "    np.sum(wprob * pred_labels) / n,\n",
    "    np.sum((wprob * pred_labels)[g1_indices]) / g1_num,\n",
    "    np.sum((wprob * pred_labels)[g2_indices]) / g2_num,\n",
    "]\n",
    "bi_fairness = [\n",
    "    np.sum(wbi * pred_labels) / n,\n",
    "    np.sum((wbi * pred_labels)[g1_indices]) / g1_num,\n",
    "    np.sum((wbi * pred_labels)[g2_indices]) / g2_num,\n",
    "]\n",
    "\n",
    "\n",
    "#Abstain rate\n",
    "optimal_abstain_rate = [0, 0, 0]\n",
    "prob_abstain_rate = [\n",
    "    1 - np.sum(wprob) / n, \n",
    "    1 - np.sum(wprob[g1_indices]) / g1_num, \n",
    "    1 - np.sum(wprob[g2_indices]) / g2_num,\n",
    "]\n",
    "bi_abstain_rate = [\n",
    "    1 - np.sum(wbi) / n, \n",
    "    1 - np.sum(wbi[g1_indices]) / g1_num, \n",
    "    1 - np.sum(wbi[g2_indices]) / g2_num,\n",
    "]"
   ]
  },
  {
   "cell_type": "code",
   "execution_count": 87,
   "metadata": {},
   "outputs": [
    {
     "data": {
      "text/plain": [
       "Text(0.5, 0.98, 'sex as Sensitive Attribute(G1=Male, G2=Female$\\\\delta=$0.3)')"
      ]
     },
     "execution_count": 87,
     "metadata": {},
     "output_type": "execute_result"
    },
    {
     "data": {
      "image/png": "[encoded data removed]",
      "text/plain": [
       "<Figure size 1080x720 with 4 Axes>"
      ]
     },
     "metadata": {
      "needs_background": "light"
     },
     "output_type": "display_data"
    }
   ],
   "source": [
    "# plt.bar([\"\", \"b\", \"c\"],[1 - total_error_rate, 1 - g1_error_rate, 1 - g2_error_rate])\n",
    "plt.rcParams.update({'font.size': 15})\n",
    "\n",
    "fig, ax = plt.subplots(nrows=2, ncols=2, figsize=(15, 10))\n",
    "\n",
    "#accuracy\n",
    "bar_width = 0.25\n",
    "x_labels = [\"Overall\", \"G1\", \"G2\"]\n",
    "x_pos = np.arange(len(labels))\n",
    "ax[0,0].bar(x_pos - bar_width, optimal_accu, width=bar_width, label='Opt. Clas.')\n",
    "ax[0,0].bar(x_pos, prob_accu, width=bar_width, label='Prob.')\n",
    "ax[0,0].bar(x_pos + bar_width, bi_accu, width=bar_width, label='Binary')\n",
    "ax[0,0].set_ylim([0.85, 1])\n",
    "ax[0,0].set_ylabel(\"Accuracy\")\n",
    "ax[0,0].set_title(\"Training accuracy\")\n",
    "ax[0,0].set_xticks(x_pos)\n",
    "ax[0,0].set_xticklabels(x_labels)\n",
    "ax[0,0].legend()\n",
    "\n",
    "\n",
    "#fairness\n",
    "bar_width = 0.25\n",
    "x_labels = [\"Overall\", \"G1\", \"G2\"]\n",
    "x_pos = np.arange(len(labels))\n",
    "ax[0,1].bar(x_pos - bar_width, optimal_fairness, width=bar_width, label='Opt. Clas.')\n",
    "ax[0,1].bar(x_pos, prob_fairness, width=bar_width, label='Prob.')\n",
    "ax[0,1].bar(x_pos + bar_width, bi_fairness, width=bar_width, label='Binary')\n",
    "# ax[0,1].set_ylim([0.85, 1])\n",
    "ax[0,1].set_ylabel('$P(\\\\hat{y} = 1 | G)$')\n",
    "ax[0,1].set_title(\"Demographic Parity\")\n",
    "ax[0,1].set_xticks(x_pos)\n",
    "ax[0,1].set_xticklabels(x_labels)\n",
    "ax[0,1].legend()\n",
    "\n",
    "#proportion\n",
    "ax[1,0].pie([g1_num, g2_num], labels=['G1', 'G2'], autopct='%1.1f%%', startangle=90)\n",
    "ax[1,0].set_title('Proportion')\n",
    "\n",
    "#abstain rate\n",
    "bar_width = 0.25\n",
    "x_labels = [\"Overall\", \"G1\", \"G2\"]\n",
    "x_pos = np.arange(len(labels))\n",
    "ax[1,1].bar(x_pos - bar_width, optimal_abstain_rate, width=bar_width, label='Opt. Clas.')\n",
    "ax[1,1].bar(x_pos, prob_abstain_rate, width=bar_width, label='Prob.')\n",
    "ax[1,1].bar(x_pos + bar_width, bi_abstain_rate, width=bar_width, label='Binary')\n",
    "# ax[0,1].set_ylim([0.85, 1])\n",
    "ax[1,1].set_ylabel('$P(\\\\hat{y} = 1 | G)$')\n",
    "ax[1,1].set_title(\"Abstain Rate\")\n",
    "ax[1,1].set_xticks(x_pos)\n",
    "ax[1,1].set_xticklabels(x_labels)\n",
    "ax[1,1].legend()\n",
    "\n",
    "\n",
    "fig.suptitle(args.attribute + \" as Sensitive Attribute(G1=Male, G2=Female, \"+ '$\\delta=$' + str(delta) +\")\", fontsize=30)"
   ]
  },
  {
   "cell_type": "code",
   "execution_count": 59,
   "metadata": {},
   "outputs": [
    {
     "data": {
      "image/png": "[encoded data removed]",
      "text/plain": [
       "<Figure size 432x288 with 1 Axes>"
      ]
     },
     "metadata": {
      "needs_background": "light"
     },
     "output_type": "display_data"
    }
   ],
   "source": [
    "labels = ['Label 1', 'Label 2', 'Label 3']\n",
    "data1 = [10, 20, 30]\n",
    "data2 = [15, 25, 35]\n",
    "data3 = [5, 15, 25]\n",
    "\n",
    "# set the width of each bar\n",
    "bar_width = 0.25\n",
    "\n",
    "# create a figure and axis object\n",
    "fig, ax = plt.subplots()\n",
    "\n",
    "# set the x positions for each bar\n",
    "x_pos = np.arange(len(labels))\n",
    "\n",
    "# plot the three bars for each label\n",
    "ax.bar(x_pos - bar_width, data1, width=bar_width, label='Data 1')\n",
    "ax.bar(x_pos, data2, width=bar_width, label='Data 2')\n",
    "ax.bar(x_pos + bar_width, data3, width=bar_width, label='Data 3')\n",
    "\n",
    "# set the x-axis ticks and labels\n",
    "ax.set_xticks(x_pos)\n",
    "ax.set_xticklabels(labels)\n",
    "\n",
    "# add a legend\n",
    "ax.legend()\n",
    "\n",
    "# display the plot\n",
    "plt.show()"
   ]
  },
  {
   "cell_type": "code",
   "execution_count": 25,
   "metadata": {},
   "outputs": [],
   "source": []
  },
  {
   "cell_type": "code",
   "execution_count": 26,
   "metadata": {},
   "outputs": [],
   "source": []
  },
  {
   "cell_type": "code",
   "execution_count": 27,
   "metadata": {},
   "outputs": [
    {
     "data": {
      "text/plain": [
       "[<matplotlib.lines.Line2D at 0x7f6488f36ed0>]"
      ]
     },
     "execution_count": 27,
     "metadata": {},
     "output_type": "execute_result"
    },
    {
     "data": {
      "image/png": "[encoded data removed]",
      "text/plain": [
       "<Figure size 432x288 with 1 Axes>"
      ]
     },
     "metadata": {
      "needs_background": "light"
     },
     "output_type": "display_data"
    }
   ],
   "source": [
    "plt.plot(np.sort(w.value))"
   ]
  },
  {
   "cell_type": "code",
   "execution_count": 17,
   "metadata": {},
   "outputs": [],
   "source": []
  },
  {
   "cell_type": "code",
   "execution_count": 31,
   "metadata": {},
   "outputs": [],
   "source": [
    "np.save(\"../data/adult/abstain_labels_prob_DP_sex.npy\", w_n)"
   ]
  },
  {
   "cell_type": "code",
   "execution_count": 18,
   "metadata": {},
   "outputs": [
    {
     "data": {
      "text/plain": [
       "0.2892072520913197"
      ]
     },
     "execution_count": 18,
     "metadata": {},
     "output_type": "execute_result"
    }
   ],
   "source": [
    "np.sum((w_n * pred_labels)[g1_indices]) / g1_num"
   ]
  },
  {
   "cell_type": "code",
   "execution_count": 19,
   "metadata": {},
   "outputs": [
    {
     "data": {
      "text/plain": [
       "0.25920719526735175"
      ]
     },
     "execution_count": 19,
     "metadata": {},
     "output_type": "execute_result"
    }
   ],
   "source": [
    "np.sum((w_n * pred_labels)[g2_indices]) / g2_num"
   ]
  },
  {
   "cell_type": "code",
   "execution_count": null,
   "metadata": {},
   "outputs": [],
   "source": []
  }
 ],
 "metadata": {
  "kernelspec": {
   "display_name": "Python 3",
   "language": "python",
   "name": "python3"
  },
  "language_info": {
   "codemirror_mode": {
    "name": "ipython",
    "version": 3
   },
   "file_extension": ".py",
   "mimetype": "text/x-python",
   "name": "python",
   "nbconvert_exporter": "python",
   "pygments_lexer": "ipython3",
   "version": "3.7.6"
  }
 },
 "nbformat": 4,
 "nbformat_minor": 4
}
