{
 "cells": [
  {
   "cell_type": "code",
   "execution_count": 31,
   "id": "020b3923",
   "metadata": {},
   "outputs": [],
   "source": [
    "import numpy as np\n",
    "from sklearn.preprocessing import OneHotEncoder\n",
    "from sklearn.model_selection import train_test_split\n",
    "\n",
    "\n",
    "dat = np.load(\"compas_DM_highbias.npz\")\n",
    "#get valid inds\n",
    "train_inds = dat['train_inds']\n",
    "valid_inds = dat['valid_inds']"
   ]
  },
  {
   "cell_type": "code",
   "execution_count": 53,
   "id": "87c48faa",
   "metadata": {},
   "outputs": [],
   "source": [
    "X = np.concatenate([dat['x_train'], dat['x_test']])\n",
    "y = np.concatenate([dat['y_train'], dat['y_test']]).flatten()\n",
    "attr = np.concatenate([dat['attr_train'], dat['attr_test']]).flatten()\n",
    "X = np.column_stack((X, attr, 1 - attr))"
   ]
  },
  {
   "cell_type": "code",
   "execution_count": 54,
   "id": "d2fb6a9c",
   "metadata": {},
   "outputs": [],
   "source": [
    "\n",
    "# Split into train and test data\n",
    "X_train, X_test, y_train, y_test = train_test_split(X, y, test_size=0.2, random_state=42)\n",
    "\n",
    "# Save train and test data\n",
    "np.save('X_train.npy', X_train)\n",
    "np.save('y_train.npy', y_train)\n",
    "np.save('X_test.npy', X_test)\n",
    "np.save('y_test.npy', y_test)"
   ]
  },
  {
   "cell_type": "code",
   "execution_count": 48,
   "id": "5ff7f5e0",
   "metadata": {},
   "outputs": [],
   "source": []
  },
  {
   "cell_type": "code",
   "execution_count": 59,
   "id": "b3f3fa61",
   "metadata": {},
   "outputs": [
    {
     "data": {
      "text/plain": [
       "(11027, 23)"
      ]
     },
     "execution_count": 59,
     "metadata": {},
     "output_type": "execute_result"
    }
   ],
   "source": [
    "X.shape"
   ]
  },
  {
   "cell_type": "code",
   "execution_count": null,
   "id": "5fa5224d",
   "metadata": {},
   "outputs": [],
   "source": []
  }
 ],
 "metadata": {
  "kernelspec": {
   "display_name": "Python 3",
   "language": "python",
   "name": "python3"
  },
  "language_info": {
   "codemirror_mode": {
    "name": "ipython",
    "version": 3
   },
   "file_extension": ".py",
   "mimetype": "text/x-python",
   "name": "python",
   "nbconvert_exporter": "python",
   "pygments_lexer": "ipython3",
   "version": "3.8.8"
  }
 },
 "nbformat": 4,
 "nbformat_minor": 5
}
