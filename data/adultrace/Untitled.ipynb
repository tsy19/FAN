{
 "cells": [
  {
   "cell_type": "code",
   "execution_count": 1,
   "id": "90fd19c8",
   "metadata": {},
   "outputs": [],
   "source": [
    "import pandas as pd\n",
    "import numpy as np\n",
    "import torch\n",
    "from torch.utils.data import Dataset, DataLoader\n",
    "from sklearn.preprocessing import OneHotEncoder, StandardScaler\n",
    "from sklearn.model_selection import train_test_split\n",
    "from imblearn.over_sampling import RandomOverSampler\n",
    "\n",
    "# Load data\n",
    "data = pd.read_csv('https://archive.ics.uci.edu/ml/machine-learning-databases/adult/adult.data', header=None)\n",
    "\n",
    "# Set column names\n",
    "columns = ['age', 'workclass', 'fnlwgt', 'education', 'education-num', 'marital-status', 'occupation', 'relationship', 'race', 'sex', 'capital-gain', 'capital-loss', 'hours-per-week', 'native-country', 'income']\n",
    "data.columns = columns\n",
    "data['race'] = np.where(data['race'] == ' Black', 'Black', 'Non-black')\n",
    "\n",
    "# Convert target variable to binary values\n",
    "data['income'] = np.where(data['income'] == ' >50K', 1, 0)\n",
    "\n",
    "# Split data into features and target\n",
    "X = data.drop('income', axis=1)\n",
    "y = data['income']\n",
    "\n",
    "# One-hot encode categorical variables\n",
    "cat_cols = ['workclass', 'education', 'marital-status', 'occupation', 'relationship', 'race', 'sex', 'native-country']\n",
    "enc = OneHotEncoder(handle_unknown='ignore')\n",
    "X_cat = enc.fit_transform(X[cat_cols]).toarray()\n",
    "\n",
    "# Normalize numerical variables\n",
    "num_cols = ['age', 'fnlwgt', 'education-num', 'capital-gain', 'capital-loss', 'hours-per-week']\n",
    "scaler = StandardScaler()\n",
    "X_num = scaler.fit_transform(X[num_cols])\n",
    "\n",
    "# Combine categorical and numerical features\n",
    "X = np.concatenate((X_num, X_cat), axis=1)\n",
    "\n",
    "# Balance dataset\n",
    "# ros = RandomOverSampler(random_state=0)\n",
    "# X_resampled, y_resampled = ros.fit_resample(X, y)\n",
    "\n",
    "# Split data into training and testing sets\n",
    "X_train, X_test, y_train, y_test = train_test_split(X, y, test_size=0.2, random_state=42)\n",
    "\n",
    "# Save training and testing data\n",
    "np.save('X_train.npy', X_train)\n",
    "np.save('y_train.npy', y_train)\n",
    "np.save('X_test.npy', X_test)\n",
    "np.save('y_test.npy', y_test)\n",
    "\n",
    "feature_names = num_cols + enc.get_feature_names_out().tolist()\n",
    "np.save(\"feature_names.npy\", np.array(feature_names))"
   ]
  },
  {
   "cell_type": "code",
   "execution_count": 13,
   "id": "a6d626f2",
   "metadata": {},
   "outputs": [],
   "source": []
  },
  {
   "cell_type": "code",
   "execution_count": 14,
   "id": "6a0c0d70",
   "metadata": {},
   "outputs": [
    {
     "data": {
      "text/plain": [
       "'race_Non-black'"
      ]
     },
     "execution_count": 14,
     "metadata": {},
     "output_type": "execute_result"
    }
   ],
   "source": [
    "feature_names[60]"
   ]
  },
  {
   "cell_type": "code",
   "execution_count": 15,
   "id": "db66e7c4",
   "metadata": {},
   "outputs": [
    {
     "data": {
      "text/plain": [
       "(26048, 105)"
      ]
     },
     "execution_count": 15,
     "metadata": {},
     "output_type": "execute_result"
    }
   ],
   "source": [
    "X_train.shape"
   ]
  },
  {
   "cell_type": "code",
   "execution_count": null,
   "id": "27c4e9b2",
   "metadata": {},
   "outputs": [],
   "source": []
  }
 ],
 "metadata": {
  "kernelspec": {
   "display_name": "Python 3",
   "language": "python",
   "name": "python3"
  },
  "language_info": {
   "codemirror_mode": {
    "name": "ipython",
    "version": 3
   },
   "file_extension": ".py",
   "mimetype": "text/x-python",
   "name": "python",
   "nbconvert_exporter": "python",
   "pygments_lexer": "ipython3",
   "version": "3.8.8"
  }
 },
 "nbformat": 4,
 "nbformat_minor": 5
}
