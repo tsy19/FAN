{
 "cells": [
  {
   "cell_type": "code",
   "execution_count": 28,
   "id": "90fd19c8",
   "metadata": {},
   "outputs": [],
   "source": [
    "import pandas as pd\n",
    "import numpy as np\n",
    "import torch\n",
    "from torch.utils.data import Dataset, DataLoader\n",
    "from sklearn.preprocessing import OneHotEncoder, StandardScaler\n",
    "from sklearn.model_selection import train_test_split\n",
    "from imblearn.over_sampling import RandomOverSampler\n",
    "from sklearn.utils import resample\n",
    "\n",
    "# Load data\n",
    "data = pd.read_csv('https://archive.ics.uci.edu/ml/machine-learning-databases/adult/adult.data', header=None)\n",
    "\n",
    "# Set column names\n",
    "columns = ['age', 'workclass', 'fnlwgt', 'education', 'education-num', 'marital-status', 'occupation', 'relationship', 'race', 'sex', 'capital-gain', 'capital-loss', 'hours-per-week', 'native-country', 'income']\n",
    "data.columns = columns\n",
    "data['race'] = np.where(data['race'] == ' Black', 'Black', 'Non-black')\n",
    "\n",
    "# Convert target variable to binary values\n",
    "data['income'] = np.where(data['income'] == ' >50K', 1, 0)\n",
    "\n",
    "# Split data into features and target\n",
    "X = data.drop('income', axis=1)\n",
    "y = data['income']\n",
    "\n",
    "# One-hot encode categorical variables\n",
    "cat_cols = ['workclass', 'education', 'marital-status', 'occupation', 'relationship', 'race', 'sex', 'native-country']\n",
    "enc = OneHotEncoder(handle_unknown='ignore')\n",
    "X_cat = enc.fit_transform(X[cat_cols]).toarray()\n",
    "\n",
    "# Normalize numerical variables\n",
    "num_cols = ['age', 'fnlwgt', 'education-num', 'capital-gain', 'capital-loss', 'hours-per-week']\n",
    "scaler = StandardScaler()\n",
    "X_num = scaler.fit_transform(X[num_cols])\n",
    "\n",
    "# Combine categorical and numerical features\n",
    "X = np.concatenate((X_num, X_cat), axis=1)\n",
    "\n",
    "feature_names = num_cols + enc.get_feature_names_out().tolist()\n",
    "\n",
    "mask = X[:, 59] == 1\n",
    "\n",
    "# identify the indices of the samples in the group that have y=1\n",
    "idx_to_keep = np.where(~(mask & (y == 1)))[0]\n",
    "\n",
    "# randomly sample 50% of the samples with y=1 that need to be removed\n",
    "idx_to_remove = np.random.choice(np.where(mask & (y == 1))[0], size=int(0.2 * np.sum(mask & (y == 1))), replace=False)\n",
    "\n",
    "# combine the indices to keep and indices to remove\n",
    "idx_keep_remove = np.concatenate([idx_to_keep, idx_to_remove])\n",
    "\n",
    "# subset X and y using the combined indices\n",
    "X = X[idx_keep_remove, :]\n",
    "y = y.iloc[idx_keep_remove]\n",
    "\n",
    "\n",
    "mask = X[:, 61] == 1\n",
    "\n",
    "# identify the indices of the samples in the group that have y=1\n",
    "idx_to_keep = np.where(~(mask & (y == 1)))[0]\n",
    "\n",
    "# randomly sample 50% of the samples with y=1 that need to be removed\n",
    "idx_to_remove = np.random.choice(np.where(mask & (y == 1))[0], size=int(0.2 * np.sum(mask & (y == 1))), replace=False)\n",
    "\n",
    "# combine the indices to keep and indices to remove\n",
    "idx_keep_remove = np.concatenate([idx_to_keep, idx_to_remove])\n",
    "\n",
    "# subset X and y using the combined indices\n",
    "X = X[idx_keep_remove, :]\n",
    "y = y.iloc[idx_keep_remove]\n"
   ]
  },
  {
   "cell_type": "code",
   "execution_count": 24,
   "id": "65d6503a",
   "metadata": {},
   "outputs": [
    {
     "data": {
      "text/plain": [
       "(31364, 105)"
      ]
     },
     "execution_count": 24,
     "metadata": {},
     "output_type": "execute_result"
    }
   ],
   "source": [
    "X.shape"
   ]
  },
  {
   "cell_type": "code",
   "execution_count": 25,
   "id": "ecf78651",
   "metadata": {},
   "outputs": [],
   "source": [
    "from sklearn.utils import resample\n",
    "\n",
    "# Separate the minority and majority classes in X and y\n",
    "minority_X = X[(X[:, 61] == 1) | (X[:, 59] == 1)]\n",
    "minority_y = y[(X[:, 61] == 1) | (X[:, 59] == 1)]\n",
    "majority_X = X[(X[:, 61] == 0) & (X[:, 59] == 0)]\n",
    "majority_y = y[(X[:, 61] == 0) & (X[:, 59] == 0)]\n",
    "\n",
    "# Upsample the minority class\n",
    "minority_X_upsampled, minority_y_upsampled = resample(minority_X, minority_y, replace=True, n_samples=len(majority_X))\n",
    "\n",
    "# Combine the majority class with the upsampled minority class\n",
    "X = np.vstack((majority_X, minority_X_upsampled))\n",
    "y = pd.concat([majority_y, minority_y_upsampled])"
   ]
  },
  {
   "cell_type": "code",
   "execution_count": 26,
   "id": "a6128476",
   "metadata": {},
   "outputs": [
    {
     "data": {
      "text/plain": [
       "(40442, 105)"
      ]
     },
     "execution_count": 26,
     "metadata": {},
     "output_type": "execute_result"
    }
   ],
   "source": [
    "X.shape"
   ]
  },
  {
   "cell_type": "code",
   "execution_count": 29,
   "id": "a6d626f2",
   "metadata": {},
   "outputs": [],
   "source": [
    "\n",
    "\n",
    "# Balance dataset\n",
    "ros = RandomOverSampler(random_state=0)\n",
    "X_resampled, y_resampled = ros.fit_resample(X, y)\n",
    "\n",
    "# Split data into training and testing sets\n",
    "X_train, X_test, y_train, y_test = train_test_split(X_resampled, y_resampled, test_size=0.2, random_state=42)\n",
    "\n",
    "# Save training and testing data\n",
    "np.save('X_train.npy', X_train)\n",
    "np.save('y_train.npy', y_train)\n",
    "np.save('X_test.npy', X_test)\n",
    "np.save('y_test.npy', y_test)\n",
    "\n",
    "\n",
    "np.save(\"feature_names.npy\", np.array(feature_names))"
   ]
  },
  {
   "cell_type": "code",
   "execution_count": 12,
   "id": "6a0c0d70",
   "metadata": {},
   "outputs": [
    {
     "data": {
      "text/plain": [
       "'race_Black'"
      ]
     },
     "execution_count": 12,
     "metadata": {},
     "output_type": "execute_result"
    }
   ],
   "source": [
    "feature_names[59]"
   ]
  },
  {
   "cell_type": "code",
   "execution_count": 20,
   "id": "db66e7c4",
   "metadata": {},
   "outputs": [
    {
     "data": {
      "text/plain": [
       "(26048,)"
      ]
     },
     "execution_count": 20,
     "metadata": {},
     "output_type": "execute_result"
    }
   ],
   "source": [
    "X_train[:, 59].shape"
   ]
  },
  {
   "cell_type": "code",
   "execution_count": 21,
   "id": "27c4e9b2",
   "metadata": {},
   "outputs": [
    {
     "data": {
      "text/plain": [
       "(26048,)"
      ]
     },
     "execution_count": 21,
     "metadata": {},
     "output_type": "execute_result"
    }
   ],
   "source": [
    "X_train[:, 60].shape"
   ]
  },
  {
   "cell_type": "code",
   "execution_count": null,
   "id": "8f7256f9",
   "metadata": {},
   "outputs": [],
   "source": []
  }
 ],
 "metadata": {
  "kernelspec": {
   "display_name": "Python 3",
   "language": "python",
   "name": "python3"
  },
  "language_info": {
   "codemirror_mode": {
    "name": "ipython",
    "version": 3
   },
   "file_extension": ".py",
   "mimetype": "text/x-python",
   "name": "python",
   "nbconvert_exporter": "python",
   "pygments_lexer": "ipython3",
   "version": "3.8.8"
  }
 },
 "nbformat": 4,
 "nbformat_minor": 5
}
